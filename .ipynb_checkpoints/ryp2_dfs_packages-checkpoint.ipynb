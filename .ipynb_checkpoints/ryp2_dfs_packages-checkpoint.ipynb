{
 "cells": [
  {
   "cell_type": "code",
   "execution_count": 11,
   "metadata": {},
   "outputs": [],
   "source": [
    "from sklearn.datasets import load_breast_cancer\n",
    "import pandas as pd\n",
    "import rpy2.robjects as ro\n",
    "from rpy2.robjects import pandas2ri\n",
    "from rpy2.robjects.packages import importr"
   ]
  },
  {
   "cell_type": "code",
   "execution_count": null,
   "metadata": {},
   "outputs": [],
   "source": [
    "conda install -c r r-essentials"
   ]
  },
  {
   "cell_type": "code",
   "execution_count": 13,
   "metadata": {},
   "outputs": [],
   "source": [
    "features = [i.replace(' ', '_') for i in load_breast_cancer().feature_names.tolist()]\n",
    "\n",
    "breast_cancer_df = pd.DataFrame(load_breast_cancer().data,columns=features)\n",
    "target_df = pd.DataFrame(load_breast_cancer().target, columns=['y'])\n",
    "\n",
    "df = pd.concat([breast_cancer_df,target_df],axis=1)"
   ]
  },
  {
   "cell_type": "code",
   "execution_count": 25,
   "metadata": {},
   "outputs": [],
   "source": [
    "data = pandas2ri.converter.py2ri(df)"
   ]
  },
  {
   "cell_type": "code",
   "execution_count": 23,
   "metadata": {},
   "outputs": [],
   "source": [
    "base = importr('base')\n",
    "d = {'package.dependencies': 'package_dot_dependencies',\n",
    "     'package_dependencies': 'package_uscore_dependencies'}\n",
    "brglm = importr('brglm',robject_translations=d)"
   ]
  },
  {
   "cell_type": "code",
   "execution_count": 27,
   "metadata": {},
   "outputs": [
    {
     "data": {
      "text/plain": [
       "['mean_radius',\n",
       " 'mean_texture',\n",
       " 'mean_perimeter',\n",
       " 'mean_area',\n",
       " 'mean_smoothness',\n",
       " 'mean_compactness',\n",
       " 'mean_concavity',\n",
       " 'mean_concave_points',\n",
       " 'mean_symmetry',\n",
       " 'mean_fractal_dimension',\n",
       " 'radius_error',\n",
       " 'texture_error',\n",
       " 'perimeter_error',\n",
       " 'area_error',\n",
       " 'smoothness_error',\n",
       " 'compactness_error',\n",
       " 'concavity_error',\n",
       " 'concave_points_error',\n",
       " 'symmetry_error',\n",
       " 'fractal_dimension_error',\n",
       " 'worst_radius',\n",
       " 'worst_texture',\n",
       " 'worst_perimeter',\n",
       " 'worst_area',\n",
       " 'worst_smoothness',\n",
       " 'worst_compactness',\n",
       " 'worst_concavity',\n",
       " 'worst_concave_points',\n",
       " 'worst_symmetry',\n",
       " 'worst_fractal_dimension']"
      ]
     },
     "execution_count": 27,
     "metadata": {},
     "output_type": "execute_result"
    }
   ],
   "source": [
    "features"
   ]
  },
  {
   "cell_type": "code",
   "execution_count": 28,
   "metadata": {},
   "outputs": [
    {
     "data": {
      "text/plain": [
       "'y ~ mean_radius+ mean_texture+ mean_perimeter+ mean_area+ mean_smoothness+ mean_compactness+ mean_concavity+ mean_concave_points+ mean_symmetry+ mean_fractal_dimension+ radius_error+ texture_error+ perimeter_error+ area_error+ smoothness_error+ compactness_error+ concavity_error+ concave_points_error+ symmetry_error+ fractal_dimension_error+ worst_radius+ worst_texture+ worst_perimeter+ worst_area+ worst_smoothness+ worst_compactness+ worst_concavity+ worst_concave_points+ worst_symmetry+ worst_fractal_dimension'"
      ]
     },
     "execution_count": 28,
     "metadata": {},
     "output_type": "execute_result"
    }
   ],
   "source": [
    "formula"
   ]
  },
  {
   "cell_type": "code",
   "execution_count": null,
   "metadata": {},
   "outputs": [],
   "source": [
    "features = [i.replace(' ', '_') for i in load_breast_cancer().feature_names.tolist()]\n",
    "formula = 'y ~ ' + \" + \".join(features)\n",
    "model = brglm.brglm_fit(formula, data = data, family='binomial')\n",
    "names = list(model.names)\n",
    "for i in range(len(names)):\n",
    "    print(names[i], base.summary(model[i]))"
   ]
  }
 ],
 "metadata": {
  "kernelspec": {
   "display_name": "Python 3",
   "language": "python",
   "name": "python3"
  },
  "language_info": {
   "codemirror_mode": {
    "name": "ipython",
    "version": 3
   },
   "file_extension": ".py",
   "mimetype": "text/x-python",
   "name": "python",
   "nbconvert_exporter": "python",
   "pygments_lexer": "ipython3",
   "version": "3.7.3"
  }
 },
 "nbformat": 4,
 "nbformat_minor": 2
}
